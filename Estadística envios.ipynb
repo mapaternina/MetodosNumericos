{
  "nbformat": 4,
  "nbformat_minor": 0,
  "metadata": {
    "colab": {
      "name": "Untitled2.ipynb",
      "provenance": [],
      "authorship_tag": "ABX9TyNT8aqKH/cHPt+VX9Z5tz/c",
      "include_colab_link": true
    },
    "kernelspec": {
      "name": "python3",
      "display_name": "Python 3"
    }
  },
  "cells": [
    {
      "cell_type": "markdown",
      "metadata": {
        "id": "view-in-github",
        "colab_type": "text"
      },
      "source": [
        "<a href=\"https://colab.research.google.com/github/mapaternina/MetodosNumericos/blob/master/Estad%C3%ADstica%20envios.ipynb\" target=\"_parent\"><img src=\"https://colab.research.google.com/assets/colab-badge.svg\" alt=\"Open In Colab\"/></a>"
      ]
    },
    {
      "cell_type": "code",
      "metadata": {
        "id": "lkJI8Q4Ta7uh",
        "colab_type": "code",
        "colab": {
          "base_uri": "https://localhost:8080/",
          "height": 68
        },
        "outputId": "8394492c-7715-466d-8505-225dae896649"
      },
      "source": [
        "#Numero de envíos estadistica\n",
        "import statistics as stats\n",
        "\n",
        "#Crear variables para almacenar numero de envíos TCC\n",
        "envios = [4,19,7,20,19,23,17,19,3,55,13,80,56]\n",
        "\n",
        "#Calcular e imprimir la moda de la variable envíos.\n",
        "print (stats.mode(envios))\n",
        "\n",
        "#Calcular e imprimir media de la variable envíos.\n",
        "print (stats.mean(envios))\n",
        "\n",
        "#Calcular e imprimir mediana de la variable envíos.\n",
        "print (stats.median(envios))\n",
        "\n"
      ],
      "execution_count": 1,
      "outputs": [
        {
          "output_type": "stream",
          "text": [
            "19\n",
            "25.76923076923077\n",
            "19\n"
          ],
          "name": "stdout"
        }
      ]
    }
  ]
}