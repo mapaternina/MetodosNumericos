{
  "nbformat": 4,
  "nbformat_minor": 0,
  "metadata": {
    "colab": {
      "name": "Untitled1.ipynb",
      "provenance": [],
      "authorship_tag": "ABX9TyMUzprAcgRcEQFhSKfwGNRh",
      "include_colab_link": true
    },
    "kernelspec": {
      "name": "python3",
      "display_name": "Python 3"
    }
  },
  "cells": [
    {
      "cell_type": "markdown",
      "metadata": {
        "id": "view-in-github",
        "colab_type": "text"
      },
      "source": [
        "<a href=\"https://colab.research.google.com/github/mapaternina/MetodosNumericos/blob/master/Jacobi.ipynb\" target=\"_parent\"><img src=\"https://colab.research.google.com/assets/colab-badge.svg\" alt=\"Open In Colab\"/></a>"
      ]
    },
    {
      "cell_type": "code",
      "metadata": {
        "id": "hL7Yto7KGsB5",
        "colab_type": "code",
        "colab": {}
      },
      "source": [
        "# -*- coding: UTF-8 -*-\n",
        " \n",
        "# Metodo de Jacobi\n",
        "# Abraham Teran\n",
        " \n",
        "# NOTA: Para garantizar la convergencia del Metodo de Jacobi\n",
        "#       hay que verificar que la matriz del sistema de ecuaciones\n",
        "#       sea una matriz de diagonal estrictamente dominante...\n",
        "#       Este codigo funciona para sistemas de matrices de 3x3\n",
        " \n",
        "import os\n",
        "import decimal\n",
        " \n",
        "def Xval(a1, b1, c1, d1, y, z):  #\n",
        "    x = (-(b1*y)-(c1*z)+d1)/a1   #\n",
        "    return x                     #\n",
        "                                 #\n",
        "def Yval(a2, b2, c2, d2, x, z):  # Formulas para recursividad\n",
        "    y = (-(a2*x)-(c2*z)+d2)/b2   #\n",
        "    return y                     #\n",
        "                                 #\n",
        "def Zval(a3, b3, c3, d3, x, y):  #\n",
        "    z = (-(a3*x)-(b3*y)+d3)/c3   #\n",
        "    return z                     #\n",
        " \n",
        "def main():\n",
        "    os.system(\"cls\")\n",
        "    vals = [[0.0,0.0,0.0],[1.0,1.0,1.0]]\n",
        "    cons = [[0,0,0,0],[0,0,0,0],[0,0,0,0]]\n",
        "    loop_val = 0\n",
        "    print (\"\\n    METODO DE JACOBI\\n\\nA1x + B1y + C1z = D1\\n\\\n",
        "A2x + B2y + C2z = D2\\nA3x + B3y + C3z = D3\\n\\n\")\n",
        "    cons[0][0] = input(\"\\nIngrese A1 > \")   # Constantes para ecuacion 1\n",
        "    cons[0][1] = input(\"Ingrese B1 > \")\n",
        "    cons[0][2] = input(\"Ingrese C1 > \")\n",
        "    cons[0][3] = input(\"Ingrese D1 > \")\n",
        "    cons[1][0] = input(\"\\nIngrese A2 > \")   # Constantes para ecuacion 2\n",
        "    cons[1][1] = input(\"Ingrese B2 > \")\n",
        "    cons[1][2] = input(\"Ingrese C2 > \")\n",
        "    cons[1][3] = input(\"Ingrese D2 > \")\n",
        "    cons[2][0] = input(\"\\nIngrese A3 > \")   # Constantes para ecuacion 3\n",
        "    cons[2][1] = input(\"Ingrese B3 > \")\n",
        "    cons[2][2] = input(\"Ingrese C3 > \")\n",
        "    cons[2][3] = input(\"Ingrese D3 > \")\n",
        "    os.system(\"cls\")\n",
        "    print (\"Calculando...\")\n",
        "    while(vals[0] != vals [1]):\n",
        "        print (vals[0])\n",
        "        vals[1][0] = Xval(cons[0][0], cons[0][1], cons[0][2], cons[0][3],\\\n",
        "vals[0][1], vals[0][2])\n",
        "        vals[1][1] = Yval(cons[1][0], cons[1][1], cons[1][2], cons[1][3],\\\n",
        "vals[0][0], vals[0][2])\n",
        "        vals[1][2] = Zval(cons[2][0], cons[2][1], cons[2][2], cons[2][3],\\\n",
        "vals[0][0], vals[0][1])\n",
        "        print (vals[1])\n",
        "        vals[0][0] = Xval(cons[0][0], cons[0][1], cons[0][2], cons[0][3],\\\n",
        "vals[1][1], vals[1][2])\n",
        "        vals[0][1] = Yval(cons[1][0], cons[1][1], cons[1][2], cons[1][3],\\\n",
        "vals[1][0], vals[1][2])\n",
        "        vals[0][2] = Zval(cons[2][0], cons[2][1], cons[2][2], cons[2][3],\\\n",
        "vals[1][0], vals[1][1])\n",
        " \n",
        "    raw_input(\"\\n\\nMetodo de Jacobi terminado...\")\n",
        " \n",
        "main()\n",
        "exit()"
      ],
      "execution_count": 0,
      "outputs": []
    }
  ]
}