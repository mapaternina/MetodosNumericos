{
  "nbformat": 4,
  "nbformat_minor": 0,
  "metadata": {
    "colab": {
      "name": "Untitled0.ipynb",
      "provenance": [],
      "authorship_tag": "ABX9TyPV0VxVmNV8q+2i3+IH/m0L",
      "include_colab_link": true
    },
    "kernelspec": {
      "name": "python3",
      "display_name": "Python 3"
    }
  },
  "cells": [
    {
      "cell_type": "markdown",
      "metadata": {
        "id": "view-in-github",
        "colab_type": "text"
      },
      "source": [
        "<a href=\"https://colab.research.google.com/github/mapaternina/MetodosNumericos/blob/master/Gauss_Seidel.ipynb\" target=\"_parent\"><img src=\"https://colab.research.google.com/assets/colab-badge.svg\" alt=\"Open In Colab\"/></a>"
      ]
    },
    {
      "cell_type": "code",
      "metadata": {
        "id": "Dg_-AA6UFl7_",
        "colab_type": "code",
        "colab": {}
      },
      "source": [
        "# Algoritmo Gauss-Seidel,\n",
        "# matrices, métodos iterativos\n",
        "# Referencia: Chapra 11.2, p.310, pdf.334\n",
        "#      Rodriguez 5.2 p.162\n",
        "# ingresar iteramax si requiere más iteraciones\n",
        "\n",
        "import numpy as np\n",
        "\n",
        "def gauss_seidel(A,B,tolera,X,iteramax=100):\n",
        "    tamano = np.shape(A)\n",
        "    n = tamano[0]\n",
        "    m = tamano[1]\n",
        "    diferencia = np.ones(n, dtype=float)\n",
        "    errado = np.max(diferencia)\n",
        "    \n",
        "    itera = 0\n",
        "    while not(errado<=tolera or itera>iteramax):\n",
        "        for i in range(0,n,1):\n",
        "            nuevo = B[i]\n",
        "            for j in range(0,m,1):\n",
        "                if (i!=j): # excepto diagonal de A\n",
        "                    nuevo = nuevo-A[i,j]*X[j]\n",
        "            nuevo = nuevo/A[i,i]\n",
        "            diferencia[i] = np.abs(nuevo-X[i])\n",
        "            X[i] = nuevo\n",
        "        errado = np.max(diferencia)\n",
        "        itera = itera + 1\n",
        "    # Vector en columna\n",
        "    X = np.transpose([X])\n",
        "    # No converge\n",
        "    if (itera>iteramax):\n",
        "        X=0\n",
        "    return(X)\n",
        "\n",
        "# Programa de prueba #######\n",
        "# INGRESO\n",
        "A = np.array([[3,-0.1,-0.2],\n",
        "              [0.1,7,-0.3],\n",
        "              [0.3,-0.2,10]])\n",
        "\n",
        "B = np.array([7.85,-19.3,71.4])\n",
        "\n",
        "tolera = 0.00001\n",
        "\n",
        "# PROCEDIMIENTO\n",
        "n = len(B)\n",
        "X = np.zeros(n, dtype=float)\n",
        "respuesta = gauss_seidel(A,B,tolera,X)\n",
        "verifica = np.dot(A,respuesta)\n",
        "\n",
        "# SALIDA\n",
        "print('respuesta de A.X=B : ')\n",
        "print(respuesta)\n",
        "print('verificar A.X: ')\n",
        "print(verifica)"
      ],
      "execution_count": 0,
      "outputs": []
    }
  ]
}